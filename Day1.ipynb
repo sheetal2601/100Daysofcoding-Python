{
  "nbformat": 4,
  "nbformat_minor": 0,
  "metadata": {
    "colab": {
      "provenance": [],
      "authorship_tag": "ABX9TyPLIOuq1LhlQDXGeehPjBOB",
      "include_colab_link": true
    },
    "kernelspec": {
      "name": "python3",
      "display_name": "Python 3"
    },
    "language_info": {
      "name": "python"
    }
  },
  "cells": [
    {
      "cell_type": "markdown",
      "metadata": {
        "id": "view-in-github",
        "colab_type": "text"
      },
      "source": [
        "<a href=\"https://colab.research.google.com/github/sheetal2601/100Daysofcoding-Python/blob/main/Day1.ipynb\" target=\"_parent\"><img src=\"https://colab.research.google.com/assets/colab-badge.svg\" alt=\"Open In Colab\"/></a>"
      ]
    },
    {
      "cell_type": "markdown",
      "source": [
        "# Print Statement"
      ],
      "metadata": {
        "id": "ixT1mpIg-CL8"
      }
    },
    {
      "cell_type": "code",
      "execution_count": 5,
      "metadata": {
        "id": "SL98ruMZPwtb",
        "colab": {
          "base_uri": "https://localhost:8080/"
        },
        "outputId": "7334a704-9ec0-4f0b-b80c-532b34b7e69f"
      },
      "outputs": [
        {
          "output_type": "stream",
          "name": "stdout",
          "text": [
            "Hello world\n",
            "1. Mix 500g of Flour , 10g Yeast adnd 300 ml water in a bowl.\n"
          ]
        }
      ],
      "source": [
        "\n",
        "print('Hello world')\n",
        "print('1. Mix 500g of Flour , 10g Yeast adnd 300 ml water in a bowl.')\n"
      ]
    },
    {
      "cell_type": "code",
      "source": [
        "\n",
        "print('She said : \"Hello\" and then left.')\n",
        "# or\n",
        "print(\"She said : \\\"Hello\\\" and then left.\")"
      ],
      "metadata": {
        "colab": {
          "base_uri": "https://localhost:8080/"
        },
        "id": "3mY57BkL9OQX",
        "outputId": "2faf83b8-7279-43ee-cf20-c338c6fc2e2c"
      },
      "execution_count": 8,
      "outputs": [
        {
          "output_type": "stream",
          "name": "stdout",
          "text": [
            "She said : \"Hello\" and then left.\n",
            "She said : \"Hello\" and then left.\n"
          ]
        }
      ]
    },
    {
      "cell_type": "markdown",
      "source": [
        "# String manipulation"
      ],
      "metadata": {
        "id": "mzjlSi63_Jcb"
      }
    },
    {
      "cell_type": "code",
      "source": [
        "print(\"Hello\\nHello\")"
      ],
      "metadata": {
        "colab": {
          "base_uri": "https://localhost:8080/"
        },
        "id": "OVy5pfDf91FN",
        "outputId": "0dd6ac50-85ec-471c-adf3-99f1164f773d"
      },
      "execution_count": 9,
      "outputs": [
        {
          "output_type": "stream",
          "name": "stdout",
          "text": [
            "Hello\n",
            "Hello\n"
          ]
        }
      ]
    },
    {
      "cell_type": "code",
      "source": [
        "#concatenate string\n",
        "print(\"hello\" + ' ' + \"Angela\")"
      ],
      "metadata": {
        "colab": {
          "base_uri": "https://localhost:8080/"
        },
        "id": "R10OVnYy_eii",
        "outputId": "20dd9949-e647-4195-f603-4f6cfb839f37"
      },
      "execution_count": 11,
      "outputs": [
        {
          "output_type": "stream",
          "name": "stdout",
          "text": [
            "hello Angela\n"
          ]
        }
      ]
    },
    {
      "cell_type": "markdown",
      "source": [
        "Python input function\n",
        "\n",
        "input()"
      ],
      "metadata": {
        "id": "HvFgShLuEQod"
      }
    },
    {
      "cell_type": "code",
      "source": [
        "input('what is your name ? ')"
      ],
      "metadata": {
        "colab": {
          "base_uri": "https://localhost:8080/",
          "height": 53
        },
        "id": "uMxEX1k5_s1D",
        "outputId": "f599e8b8-9bbe-45c6-8a22-c683a22ba7e3"
      },
      "execution_count": 12,
      "outputs": [
        {
          "name": "stdout",
          "output_type": "stream",
          "text": [
            "what is your name ? Yan \n"
          ]
        },
        {
          "output_type": "execute_result",
          "data": {
            "text/plain": [
              "'Yan '"
            ],
            "application/vnd.google.colaboratory.intrinsic+json": {
              "type": "string"
            }
          },
          "metadata": {},
          "execution_count": 12
        }
      ]
    },
    {
      "cell_type": "markdown",
      "source": [
        "len()"
      ],
      "metadata": {
        "id": "DE1OE0JgINzG"
      }
    },
    {
      "cell_type": "code",
      "source": [
        "#count number of words of any string\n",
        "print(len('reaslan'))\n"
      ],
      "metadata": {
        "colab": {
          "base_uri": "https://localhost:8080/"
        },
        "id": "TZjjaihREXcl",
        "outputId": "f4b3fe04-07ea-409c-b5a0-19f320312644"
      },
      "execution_count": 13,
      "outputs": [
        {
          "output_type": "stream",
          "name": "stdout",
          "text": [
            "7\n"
          ]
        }
      ]
    },
    {
      "cell_type": "markdown",
      "source": [
        "# Python Variable\n",
        "A variable in Python is a named location used to store data in the computer's memory"
      ],
      "metadata": {
        "id": "XJ6hcVfmH1ZU"
      }
    },
    {
      "cell_type": "code",
      "source": [
        "name = 'Jack'\n",
        "print(name)"
      ],
      "metadata": {
        "colab": {
          "base_uri": "https://localhost:8080/"
        },
        "id": "onaC4RQoHLHm",
        "outputId": "2f9a15f1-6730-42c5-b7ac-780301925e97"
      },
      "execution_count": 15,
      "outputs": [
        {
          "output_type": "stream",
          "name": "stdout",
          "text": [
            "Jack\n"
          ]
        }
      ]
    },
    {
      "cell_type": "code",
      "source": [
        "#switch between variable\n",
        "\n",
        "# There are two variables, a and b from input\n",
        "a = input()\n",
        "b = input()\n",
        "\n",
        "\n",
        "a,b = b,a # switch\n",
        "\n",
        "\n",
        "# 🚨 Don't change the code below 👇\n",
        "print(\"a: \" + a)\n",
        "print(\"b: \" + b)\n"
      ],
      "metadata": {
        "colab": {
          "base_uri": "https://localhost:8080/"
        },
        "id": "td2P7_6gH9y0",
        "outputId": "4e5e42aa-7e1e-4c2e-d89f-77cf0a3e1081"
      },
      "execution_count": 16,
      "outputs": [
        {
          "output_type": "stream",
          "name": "stdout",
          "text": [
            "14\n",
            "45\n",
            "a: 45\n",
            "b: 14\n"
          ]
        }
      ]
    },
    {
      "cell_type": "markdown",
      "source": [
        "# Day 1 project - band name generator"
      ],
      "metadata": {
        "id": "lVuaHq_uKOlp"
      }
    },
    {
      "cell_type": "code",
      "source": [
        "#1. Create a greeting for your program.\n",
        "print(\"greetings for the day\")\n",
        "#2. Ask the user for the city that they grew up in.\n",
        "city =input('what is the name of city you live in ?')\n",
        "#3. Ask the user for the name of a pet.\n",
        "pet = input('what is the name of your pet ?')\n",
        "#4. Combine the name of their city and pet and show them their band name.\n",
        "Band_name = (city + ' ' + pet)\n",
        "#5. Make sure the input cursor shows on a new line:\n",
        "print(Band_name)\n",
        "# Solution: https://replit.com/@appbrewery/band-name-generator-end"
      ],
      "metadata": {
        "colab": {
          "base_uri": "https://localhost:8080/"
        },
        "id": "T0AefKdfKLtl",
        "outputId": "32641179-54e5-4104-c1b2-8efacfe5fefb"
      },
      "execution_count": 19,
      "outputs": [
        {
          "output_type": "stream",
          "name": "stdout",
          "text": [
            "greetings for the day\n",
            "what is the name of city you live in ?rrr\n",
            "what is the name of your pet ?eee\n",
            "rrr eee\n"
          ]
        }
      ]
    },
    {
      "cell_type": "code",
      "source": [
        "\n"
      ],
      "metadata": {
        "id": "2mqHUdqcKmOU"
      },
      "execution_count": null,
      "outputs": []
    }
  ]
}