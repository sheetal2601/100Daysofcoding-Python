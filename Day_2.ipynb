{
  "nbformat": 4,
  "nbformat_minor": 0,
  "metadata": {
    "colab": {
      "provenance": [],
      "authorship_tag": "ABX9TyNM/x8I43BVk2Jq5jEU2PvG",
      "include_colab_link": true
    },
    "kernelspec": {
      "name": "python3",
      "display_name": "Python 3"
    },
    "language_info": {
      "name": "python"
    }
  },
  "cells": [
    {
      "cell_type": "markdown",
      "metadata": {
        "id": "view-in-github",
        "colab_type": "text"
      },
      "source": [
        "<a href=\"https://colab.research.google.com/github/sheetal2601/100Daysofcoding-Python/blob/main/Day_2.ipynb\" target=\"_parent\"><img src=\"https://colab.research.google.com/assets/colab-badge.svg\" alt=\"Open In Colab\"/></a>"
      ]
    },
    {
      "cell_type": "markdown",
      "source": [
        "Topic - Data Type , Numbers , Operations , Type Conversions , f-strings\n",
        "\n",
        "# Data type\n"
      ],
      "metadata": {
        "id": "zlN57CR3KeuN"
      }
    },
    {
      "cell_type": "code",
      "source": [
        "#String - String of character Ex. \"Hello\"\n",
        "#1. Subscripting\n",
        "\n",
        "print('Hello'[0])\n"
      ],
      "metadata": {
        "colab": {
          "base_uri": "https://localhost:8080/"
        },
        "id": "uK9v9GOMKsCx",
        "outputId": "ccdd9923-b611-4462-d324-a0ac8767c0e0"
      },
      "execution_count": 4,
      "outputs": [
        {
          "output_type": "stream",
          "name": "stdout",
          "text": [
            "H\n"
          ]
        }
      ]
    },
    {
      "cell_type": "code",
      "source": [
        "#Keeping Any number inside double quote make it string\n",
        "#string concatenation\n",
        "print('123' + '456')"
      ],
      "metadata": {
        "colab": {
          "base_uri": "https://localhost:8080/"
        },
        "id": "3Z_Ts9HGNDwp",
        "outputId": "e59c55aa-c419-412f-b521-c3f30757429a"
      },
      "execution_count": 5,
      "outputs": [
        {
          "output_type": "stream",
          "name": "stdout",
          "text": [
            "123456\n"
          ]
        }
      ]
    },
    {
      "cell_type": "code",
      "source": [
        "#string- String of character\n",
        "#Integer - Numerical values  12345\n",
        "#Float - Decimal Numbers  3.141\n",
        "#Boolean - True , false\n"
      ],
      "metadata": {
        "id": "14nqfptyNzF7"
      },
      "execution_count": 6,
      "outputs": []
    },
    {
      "cell_type": "markdown",
      "source": [
        "#Type Error , Type Checking and Type Conversion\n",
        "\n",
        "Type Error\n",
        "1. len() don't work with integers  gives type error while passing integers\n",
        "2. concatination of string + intgers give type error\n",
        "\n",
        "Type() Checking Data Type\n",
        "\n",
        "TypeCasting - changing one data type to another\n",
        "\n",
        "str()\n",
        "int()\n",
        "float()"
      ],
      "metadata": {
        "id": "aHY0i1exPYck"
      }
    },
    {
      "cell_type": "code",
      "source": [
        "print(70 + float('170.8'))\n",
        "print(str(123) + str(567))"
      ],
      "metadata": {
        "colab": {
          "base_uri": "https://localhost:8080/"
        },
        "id": "SlSysBs6PdpA",
        "outputId": "5d4aed6b-81cf-47d2-bd85-e06598af666b"
      },
      "execution_count": 9,
      "outputs": [
        {
          "output_type": "stream",
          "name": "stdout",
          "text": [
            "240.8\n",
            "123567\n"
          ]
        }
      ]
    },
    {
      "cell_type": "markdown",
      "source": [
        "# Mathematical Opetaions"
      ],
      "metadata": {
        "id": "8lSYEqKpRb4B"
      }
    },
    {
      "cell_type": "code",
      "source": [
        "# 3 + 5 addion\n",
        "# 7- 4 substarcion\n",
        "# 3*2 multiplication\n",
        "# 6/3 division\n",
        "#2**3 exponents\n",
        "\n"
      ],
      "metadata": {
        "id": "SVnY3K7VQfSM"
      },
      "execution_count": 10,
      "outputs": []
    },
    {
      "cell_type": "markdown",
      "source": [
        "# PEMDAS () , ** , * / , +-"
      ],
      "metadata": {
        "id": "qcQ5Fl_zSFQ_"
      }
    },
    {
      "cell_type": "code",
      "source": [
        "print(3*(3+3)/3-3)"
      ],
      "metadata": {
        "colab": {
          "base_uri": "https://localhost:8080/"
        },
        "id": "q5k51D6ySMyr",
        "outputId": "d1aebaa0-dfac-4aa4-9246-ca4e9c80333c"
      },
      "execution_count": 12,
      "outputs": [
        {
          "output_type": "stream",
          "name": "stdout",
          "text": [
            "3.0\n"
          ]
        }
      ]
    },
    {
      "cell_type": "markdown",
      "source": [
        "# BMI Calculator"
      ],
      "metadata": {
        "id": "sThRvK0hWuKr"
      }
    },
    {
      "cell_type": "code",
      "source": [
        "# 1st input: enter height in meters e.g: 1.65\n",
        "height = input()\n",
        "# 2nd input: enter weight in kilograms e.g: 72\n",
        "weight = input()\n",
        "# 🚨 Don't change the code above 👆\n",
        "\n",
        "# Write your code below this line 👇\n",
        "weight_as_int = int(weight)\n",
        "height_as_int = float(height)\n",
        "\n",
        "BMI = weight_as_int /height_as_int**2\n",
        "print(int(BMI))"
      ],
      "metadata": {
        "colab": {
          "base_uri": "https://localhost:8080/"
        },
        "id": "CNCtiIx7WsvQ",
        "outputId": "c5a3883a-c2bc-4cdb-b126-1c36c0821492"
      },
      "execution_count": 17,
      "outputs": [
        {
          "output_type": "stream",
          "name": "stdout",
          "text": [
            "1.63\n",
            "69\n",
            "25\n"
          ]
        }
      ]
    },
    {
      "cell_type": "markdown",
      "source": [
        "#Number Manupulation"
      ],
      "metadata": {
        "id": "nkY77_3YWfjs"
      }
    },
    {
      "cell_type": "code",
      "source": [
        "#round() - round number in whole number\n",
        "print(8/3)\n",
        "print(round(8/3, 2))"
      ],
      "metadata": {
        "colab": {
          "base_uri": "https://localhost:8080/"
        },
        "id": "b-zK2dj8Uyf2",
        "outputId": "e098017f-cf1e-48a4-e1a0-1fb725a51fbe"
      },
      "execution_count": 20,
      "outputs": [
        {
          "output_type": "stream",
          "name": "stdout",
          "text": [
            "2.6666666666666665\n",
            "2.67\n"
          ]
        }
      ]
    },
    {
      "cell_type": "code",
      "source": [
        "#floor divison - for whole number\n",
        "print(8//3)\n",
        "\n",
        "# Data type for / is float ,&  // is is int\n"
      ],
      "metadata": {
        "colab": {
          "base_uri": "https://localhost:8080/"
        },
        "id": "JmYmy8OAXny7",
        "outputId": "73cf6ae9-81d0-4621-b5ea-46acacbb0d73"
      },
      "execution_count": 22,
      "outputs": [
        {
          "output_type": "stream",
          "name": "stdout",
          "text": [
            "2\n"
          ]
        }
      ]
    },
    {
      "cell_type": "code",
      "source": [
        "result = 4/2\n",
        "result /= 2\n",
        "result"
      ],
      "metadata": {
        "colab": {
          "base_uri": "https://localhost:8080/"
        },
        "id": "sV-RukrGXzVS",
        "outputId": "6b307aa9-dc62-4c21-ce7a-29f2390c6394"
      },
      "execution_count": 24,
      "outputs": [
        {
          "output_type": "execute_result",
          "data": {
            "text/plain": [
              "1.0"
            ]
          },
          "metadata": {},
          "execution_count": 24
        }
      ]
    },
    {
      "cell_type": "code",
      "source": [
        "score = 0\n",
        "score += 1\n",
        "score"
      ],
      "metadata": {
        "colab": {
          "base_uri": "https://localhost:8080/"
        },
        "id": "kmjXPAEjYVtS",
        "outputId": "a2c8f410-71c0-46b2-9f70-0b1acecbda13"
      },
      "execution_count": 25,
      "outputs": [
        {
          "output_type": "execute_result",
          "data": {
            "text/plain": [
              "1"
            ]
          },
          "metadata": {},
          "execution_count": 25
        }
      ]
    },
    {
      "cell_type": "markdown",
      "source": [
        "# f-string"
      ],
      "metadata": {
        "id": "wxZbzpA8Y27M"
      }
    },
    {
      "cell_type": "code",
      "source": [
        "score = 0  # int\n",
        "height = 1.8 #float\n",
        "iswinning = True #bool\n",
        "\n",
        "#we have different data type instead of making is string and use + sign\n",
        "#f- string\n",
        "#f\"your score is {variable}\"\n",
        "\n",
        "print(f\"your score is {score}, your height is{height}\")"
      ],
      "metadata": {
        "colab": {
          "base_uri": "https://localhost:8080/"
        },
        "id": "KoZdcGw2Yci_",
        "outputId": "e4558566-9a8c-42e6-e7b7-f57ace852ca4"
      },
      "execution_count": 26,
      "outputs": [
        {
          "output_type": "stream",
          "name": "stdout",
          "text": [
            "your score is 0, your height is1.8\n"
          ]
        }
      ]
    },
    {
      "cell_type": "markdown",
      "source": [
        "# Life in a week\n",
        "\n",
        "I was reading this article by Tim Urban - Your Life in Weeks and realised just how little time we actually have.\n",
        "\n",
        "Create a program using maths and f-Strings that tells us how many weeks we have left, if we live until 90 years old.\n",
        "\n",
        "It will take your current age as the input and output a message with our time left in this format:\n",
        "\n",
        "You have x weeks left.\n",
        "Where x is replaced with the actual calculated number of weeks the input age has left until age 90.\n",
        "\n",
        "Warning your output should match the Example Output format exactly, even the positions of the commas and full stops"
      ],
      "metadata": {
        "id": "LX6msp-vZ7me"
      }
    },
    {
      "cell_type": "code",
      "source": [
        "age = input()\n",
        "Years = 90- int(age)\n",
        "weeks = Years * 52\n",
        "print(f\"You have {weeks} weeks left.\")"
      ],
      "metadata": {
        "colab": {
          "base_uri": "https://localhost:8080/"
        },
        "id": "8XYQdYbPZ92G",
        "outputId": "569c7db9-fff2-474c-b14a-7907cf5f6901"
      },
      "execution_count": 28,
      "outputs": [
        {
          "output_type": "stream",
          "name": "stdout",
          "text": [
            "20\n",
            "You have 3640 weeks left.\n"
          ]
        }
      ]
    },
    {
      "cell_type": "code",
      "source": [
        "#exercice\n",
        "print(6+4/2-(1*2))"
      ],
      "metadata": {
        "colab": {
          "base_uri": "https://localhost:8080/"
        },
        "id": "rljq-c6wbkBA",
        "outputId": "915277d7-b74a-49f6-bae3-265b3bbf0738"
      },
      "execution_count": 29,
      "outputs": [
        {
          "output_type": "stream",
          "name": "stdout",
          "text": [
            "6.0\n"
          ]
        }
      ]
    },
    {
      "cell_type": "code",
      "source": [
        "a = int('5')/int(2.7)\n",
        "type(a)"
      ],
      "metadata": {
        "colab": {
          "base_uri": "https://localhost:8080/"
        },
        "id": "tl8_Rw_rbt1W",
        "outputId": "d6a49229-e863-44ae-922f-b6c27fc8f0c3"
      },
      "execution_count": 30,
      "outputs": [
        {
          "output_type": "execute_result",
          "data": {
            "text/plain": [
              "float"
            ]
          },
          "metadata": {},
          "execution_count": 30
        }
      ]
    },
    {
      "cell_type": "code",
      "source": [],
      "metadata": {
        "id": "ZjprMYT8b38E"
      },
      "execution_count": null,
      "outputs": []
    },
    {
      "cell_type": "markdown",
      "source": [
        "# Tip Calculator"
      ],
      "metadata": {
        "id": "IWGhFWpYcHoz"
      }
    },
    {
      "cell_type": "code",
      "source": [
        "#If the bill was $150.00, split between 5 people, with 12% tip.\n",
        "#Each person should pay (150.00 / 5) * 1.12 = 33.6\n",
        "#Round the result to 2 decimal places.\n",
        "print(\"Welcome to the tip calculator!\")\n",
        "bill = float(input(\"What was the total bill? $\"))\n",
        "tip = int(input(\"How much tip would you like to give? 10, 12, or 15? \"))\n",
        "people = int(input(\"How many people to split the bill?\"))\n",
        "\n",
        "tip_as_percent = tip / 100\n",
        "total_tip_amount = bill * tip_as_percent\n",
        "total_bill = bill + total_tip_amount\n",
        "bill_per_person = total_bill / people\n",
        "final_amount = round(bill_per_person, 2)\n",
        "\n",
        "\n",
        "# FAQ: How to round to 2 decimal places?\n",
        "\n",
        "# Find the answer in the Q&A here: https://www.udemy.com/course/100-days-of-code/learn/lecture/17965132#questions/13315048\n",
        "\n",
        "\n",
        "print(f\"Each person should pay: ${final_amount}\")"
      ],
      "metadata": {
        "colab": {
          "base_uri": "https://localhost:8080/"
        },
        "id": "S_EZzxnecK7_",
        "outputId": "013fa271-ac17-4fa4-a833-be48073938af"
      },
      "execution_count": 31,
      "outputs": [
        {
          "output_type": "stream",
          "name": "stdout",
          "text": [
            "Welcome to the tip calculator!\n",
            "What was the total bill? $150\n",
            "How much tip would you like to give? 10, 12, or 15? 10\n",
            "How many people to split the bill?5\n",
            "Each person should pay: $33.0\n"
          ]
        }
      ]
    }
  ]
}